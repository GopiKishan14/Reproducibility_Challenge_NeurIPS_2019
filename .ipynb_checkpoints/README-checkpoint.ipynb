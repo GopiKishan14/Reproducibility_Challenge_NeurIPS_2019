{
 "cells": [
  {
   "cell_type": "markdown",
   "metadata": {},
   "source": [
    "# Reproducibility_Challenge_NeurIPS_2019\n",
    "\n",
    "This is a blog explains method proposed in the paper Competitive gradient descent [(Schäfer et al., 2019)](https://arxiv.org/abs/1905.12103). This has been written as a supplimentary to the reproducibility report for reproducibility challenge of NeurlIPS’19. The pdf format of the report is present [here](https://gopikishan14.github.io/Reproducibility_Challenge_NeurIPS_2019/) with this github [repository](https://github.com/GopiKishan14/Reproducibility_Challenge_NeurIPS_2019) as its source."
   ]
  },
  {
   "cell_type": "markdown",
   "metadata": {},
   "source": [
    "# Paper Overview\n",
    "The paper introduces a new algorithm for the numerical computation of Nash equilibria of competitive two-player games. The method is a natural generalization of gradient descent to the two-player setting where the update is given by the Nash equilibrium of a regularized bilinear local approximation of the underlying game. It avoids oscillatory and divergent behaviors seen in alternating gradient descent. Convergence and stability properties of the method are robust to strong interactions between the players, without adapting the stepsize, which is not the case with previous methods. The ability to choose larger stepsizes furthermore allows the algorithm to achieve faster convergence, as measured by the number of model evaluations (See the [report](https://gopikishan14.github.io/Reproducibility_Challenge_NeurIPS_2019/) experiments section).\n"
   ]
  },
  {
   "cell_type": "markdown",
   "metadata": {},
   "source": [
    "## Background\n",
    "The traditional optimization is concerned with a single agent trying to optimize a cost function. It\n",
    "can be seen as $\\min_{x \\in R^m} f(x)$ . The agent has a clear objective to find (“Good local”) minimum of\n",
    "f. Gradeint Descent (and its varients) are reliable Algorithmic Baseline for this purpose.\n",
    "\n",
    "The paper talks about Competitive optimization. Competitive optimization extends this problem\n",
    "to the setting of multiple agents each trying to minimize their own cost function, which in general\n",
    "depends on the actions of all agents.\n",
    " The paper deals with the case of two such agents:\n",
    "    \\begin{align}\n",
    "        &\\min_{x \\in R^m} f(x,y),\\ \\ \\ \\min_{y \\in R^n} g(x,y)\n",
    "    \\end{align}\n",
    "    for two functions $f,g: R^m \\times R^n \\longrightarrow R$.\n",
    "\n",
    "In single agent optimization, the solution of the problem consists of the minimizer of the cost function.\n",
    "In competitive optimization, the right definition of solution is less obvious, but often one is\n",
    "interested in computing Nash– or strategic equilibria: Pairs of strategies, such that no player can\n",
    "decrease their costs by unilaterally changing their strategies. If f and g are not convex, finding a\n",
    "global Nash equilibrium is typically impossible and instead we hope to find a \"good\" local Nash\n",
    "equilibrium"
   ]
  },
  {
   "cell_type": "markdown",
   "metadata": {},
   "source": [
    "## About the problem\n",
    "##### Gradient descent/ascent and the cycling problem:\n",
    "\n",
    "For differentiable objective functions, the most naive approach to solving\n",
    "\\begin{align}\n",
    "        \\label{eqn:game}\n",
    "        &\\min_{x \\in R^m} f(x,y),\\ \\ \\ \\min_{y \\in R^n} g(x,y)\n",
    "    \\end{align}\n",
    "is gradient descent ascent (GDA), whereby both players independently change their strategy in the direction of steepest descent of their cost function.\n",
    "Unfortunately, this procedure features oscillatory or divergent behavior even in the simple case of a bilinear game ($f(x,y) = x^{\\top} y = -g(x,y)$)\n"
   ]
  },
  {
   "cell_type": "markdown",
   "metadata": {},
   "source": [
    "\n",
    "## Solution approach\n",
    "\n",
    "To motivate this algorithm, authors remind us that gradient descent with stepsize $\\eta$ applied to the function $f:R^m \\longrightarrow R$ can be written as\n",
    "\n",
    "\\begin{equation}\n",
    "        x_{k+1} = argmin_{x \\in R^m} (x^T - x_{k}^T) \\nabla_x f(x_k) + \\frac{1}{2\\eta} \\|x - x_{k}\\|^2.\n",
    "    \\end{equation}\n",
    "\n",
    "This models a (single) player solving a local linear approximation of the (minimization) game, subject to a quadratic penalty that expresses her limited confidence in the global accuracy of the model. \n",
    "\n",
    "```The natural generalization of this idea to the competitive case should then be given by the two players solving a local approximation of the true game, both subject to a quadratic penalty that expresses their limited confidence in the accuracy of the local approximation.```\n",
    "\n",
    "In order to implement this idea, we need to find the appropriate way to generalize the linear approximation in the single agent setting to the competitive setting. \n",
    "\n",
    "Authors suggest to use a **bilinear** approximation in the two-player setting.\n",
    "Since the bilinear approximation is the lowest order approximation that can capture some interaction between the two players, they argue that the natural generalization of gradient descent to competitive optimization is not GDA, but rather the update rule $(x_{k+1},y_{k+1}) = (x_k,y_k) + (x,y)$, where $(x,y)$ is a Nash equilibrium of **the game**.\n",
    "\n",
    "\\begin{align}\n",
    "    \\begin{split}\n",
    "    \\label{eqn:localgame}\n",
    "    \\min_{x \\in R^m} x^{\\top} \\nabla_x f &+ x^{\\top} D_{xy}^2 f y + y^{\\top} \\nabla_y f + \\frac{1}{2\\eta} x^{\\top} x \\\\\n",
    "    \\min_{y \\in R^n}  y^{\\top} \\nabla_y g &+ y^{\\top} D_{yx}^2 g x + x^{\\top} \\nabla_x g + \\frac{1}{2\\eta} y^{\\top} y.\n",
    "    \\end{split}\n",
    "\\end{align}\n",
    "\n",
    "Indeed, the (unique) Nash equilibrium of the above Game can be computed in closed form."
   ]
  },
  {
   "cell_type": "markdown",
   "metadata": {},
   "source": [
    "\n",
    "## Proposed method\n",
    "**Among all (possibly randomized) strategies with finite first moment, the only Nash equilibrium of `the Game` is given by\n",
    "\\begin{align}\n",
    "\\label{eqn:nash}\n",
    "&x = -\\eta \\left( Id - \\eta^2 D_{xy}^2f D_{yx}^2 g \\right)^{-1}  \n",
    "            \\left( \\nabla_{x} f - \\eta D_{xy}^2f  \\nabla_{y} g \\right) \\\\\n",
    "&y = -\\eta \\left( Id - \\eta^2 D_{yx}^2g D_{xy}^2 f \\right)^{-1}  \n",
    "            \\left( \\nabla_{y} g - \\eta D_{yx}^2g  \\nabla_{x} f \\right),\n",
    "\\end{align}\n",
    "given that the matrix inverses in the above expression exist.** \n",
    "\n",
    "Note that the matrix inverses exist for all but one value of $\\eta$, and for all $\\eta$ in the case of a zero sum game.\n",
    "\n",
    "According to the above Theorem, the Game has exactly one optimal pair of strategies, which is deter-ministic. Thus, we can use these strategies as an update rule, generalizing the idea of local optimalityfrom the single– to the multi agent setting and obtaining the following Algorithm.\n",
    "\n",
    "`Competitive Gradient Descent (CGD)`\n",
    "\\begin{align}\n",
    "for\\ (0 <= k <= N-1)\\\\\n",
    "&x_{k+1}  = x_{k} - \\eta \\left( Id - \\eta^2 D_{xy}^2f D_{yx}^2 g \\right)^{-1}\\left( \\nabla_{x} f - \\eta D_{xy}^2f  \\nabla_{y} g \\right)\\\\\n",
    "&y_{k+1} = y_{k} - \\eta \\left( Id - \\eta^2 D_{yx}^2g D_{xy}^2 f \\right)^{-1}  \n",
    "    \\left( \\nabla_{y} g - \\eta D_{yx}^2g  \\nabla_{x} f \\right)\\\\\n",
    "    return\\ (x_{N},y_{N})\\;\n",
    "\\end{align}\n",
    "\n",
    "\n",
    "\n",
    "\n",
    "**What I think that they think that I think ... that they do**: Another game-theoretic interpretation of CGD follows from the observation that its update rule can be written as \n",
    "\n",
    "\\begin{equation}\n",
    "\\begin{pmatrix}\n",
    "     \\Delta x\\\\\n",
    "     \\Delta y\n",
    "\\end{pmatrix} = -\n",
    "\\begin{pmatrix}\n",
    "    Id        & \\eta D_{xy}^2 f \\\\\n",
    "    \\eta D_{yx}^2 g & Id        \n",
    "\\end{pmatrix}^{-1}\n",
    "\\begin{pmatrix}\n",
    "     \\nabla_{x} f\\\\\n",
    "     \\nabla_{y} g\n",
    "\\end{pmatrix}.\n",
    "\\end{equation}\n",
    "\n",
    "Applying the expansion $ \\lambda_{\\max} (A) < 1 \\Rightarrow \\left( Id - A \\right)^{-1} = \\lim_{N \\rightarrow \\infty} \\sum_{k=0}^{N} A^k$ to the above equation, we observe that: \\\\\n",
    "\n",
    "1. The first partial sum ($N = 0$) corresponds to the optimal strategy if the other player's strategy stays constant (GDA).\n",
    "2. The second partial sum ($N = 1$) corresponds to the optimal strategy if the other player thinks that the other player's strategy stays constant (LCGD).\n",
    "3. The third partial sum ($N = 2$) corresponds to the optimal strategy if the other player thinks that the other player thinks that the other player's strategy stays constant, and so forth, until the Nash equilibrium is recovered in the limit.\n",
    "\n"
   ]
  },
  {
   "cell_type": "markdown",
   "metadata": {},
   "source": [
    "\n",
    "## Comparison\n",
    "These six algorithms amount to different subsets of the following four terms.\n",
    "\n",
    "\\begin{align*}\n",
    "       & \\text{GDA: } &\\Delta x =  &&&- \\nabla_x f&\\\\\n",
    "       & \\text{LCGD: } &\\Delta x =  &&&- \\nabla_x f& &-\\eta D_{xy}^2 f \\nabla_y f&\\\\\n",
    "       & \\text{SGA: } &\\Delta x =  &&&- \\nabla_x f& &- \\gamma D_{xy}^2 f \\nabla_y f&  & & \\\\\n",
    "       & \\text{ConOpt: } &\\Delta x =  &&&- \\nabla_x f& &- \\gamma D_{xy}^2 f \\nabla_y f&  &- \\gamma D_{xx}^2 f \\nabla_x f& \\\\\n",
    "       & \\text{OGDA: } &\\Delta x \\approx &&&- \\nabla_x f& &-\\eta D_{xy}^2 f \\nabla_y f&  &+\\eta D_{xx}^2 f \\nabla_x f& \\\\\n",
    "       & \\text{CGD: } &\\Delta x = &\\left(Id + \\eta^2 D_{xy}^2 f D_{yx}^2 f\\right)^{-1}&\\bigl( &- \\nabla_x f&  &-\\eta D_{xy}^2 f \\nabla_y f& & & \\bigr)\n",
    "     \\end{align*}\n",
    "\n",
    "1. The **gradient term** $-\\nabla_{x}f$, $\\nabla_{y}f$ which corresponds to the most immediate way in which the players can improve their cost.\n",
    "\n",
    "\n",
    "\n",
    "2. The **competitive term** $-D_{xy}f \\nabla_yf$, $D_{yx}f \\nabla_x f$ which can be interpreted either as anticipating the other player to use the naive (GDA) strategy, or as decreasing the other players influence (by decreasing their gradient).\n",
    "\n",
    "\n",
    "\n",
    "3. The **consensus term** $ \\pm D_{xx}^2 \\nabla_x f$, $\\mp D_{yy}^2 \\nabla_y f$ that determines whether the players prefer to decrease their gradient ($\\pm = +$) or to increase it ($\\pm = -$). The former corresponds the players seeking consensus, whereas the latter can be seen as the opposite of consensus. (It also corresponds to an approximate Newton's method. \\footnote{Applying a damped and regularized Newton's method to the optimization problem of Player 1 would amount to choosing $x_{k+1} = x_{k} - \\eta(Id + \\eta D_{xx}^2)^{-1} f \\nabla_x f \\approx x_{k} - \\eta( \\nabla_xf - \\eta D_{xx}^{2}f \\nabla_x f)$, for $\\|\\eta D_{xx}^2f\\| \\ll 1$.)\n",
    "\n",
    "\n",
    "\n",
    "\n",
    "4. The **equilibrium term** $(Id + \\eta^2 D_{xy}^2 D_{yx}^2 f)^{-1}$, $(Id + \\eta^2 D_{yx}^2 D_{xy}^2 f)^{-1}$, which arises from the players solving for the Nash equilibrium. \n",
    "    This term lets each player prefer strategies that are less vulnerable to the actions of the other player.\n"
   ]
  },
  {
   "cell_type": "markdown",
   "metadata": {},
   "source": [
    "## Code Implementation\n",
    "\n",
    "The competitive gradeint descent algorithm contains gradient, competitive and equilibrium term. So, we need to efficiently calculat them. The equibrium term is a matrix inverse\n",
    "\n",
    "### Computing Hessian vector products\n",
    "\n",
    "The algorithm requires products of the mixed Hessian $v \\mapsto D_{xy}f v$ and  $v \\mapsto D_{yx}g v$, which we want to compute using automatic differentiation.\n",
    "\n",
    "Many AD frameworks, like Autograd (https://github.com/HIPS/autograd) and ForwardDiff(https://github.com/JuliaDiff/ForwardDiff.jl) together with ReverseDiff(https://github.com/JuliaDiff/ReverseDiff.jl) support this procedure. While the authors used the AD frameworks from Julia, I will be using Autograd from PyTorch (https://pytorch.org/docs/stable/autograd.html)\n",
    "\n",
    "### Matrix inversion for the equilibrium term\n",
    "Authors propose to use iterative methods to approximate the inverse-matrix vector products arising in the *equilibrium term*.\n",
    "Authors focus on zero-sum games, where the matrix is always symmetric positive definite, making the [conjugate gradient (CG)](https://en.wikipedia.org/wiki/Conjugate_gradient_method) algorithm the method of choice. \n",
    "They also suggest terminating the iterative solver after a given relative decrease of the residual is achieved ($\\| M x - y \\| \\leq \\epsilon \\|x\\|$ for a small parameter $\\epsilon$, when solving the system $Mx = y$).\n",
    "\n",
    "Briefly, conjugate gradient (CG) iteratively solves the system $Mx = y$ for $x$ without calculating $M^{-1}$."
   ]
  },
  {
   "cell_type": "code",
   "execution_count": 14,
   "metadata": {},
   "outputs": [
    {
     "name": "stdout",
     "output_type": "stream",
     "text": [
      "Solution vector x* for Ax = b :\n",
      "[[ 2.]\n",
      " [-2.]]\n",
      "And the steps taken by algorithm :  [(-2.0, -2.0), (0.08000000000000007, -0.6133333333333333), (2.0, -2.0)]\n"
     ]
    },
    {
     "data": {
      "text/plain": [
       "[<matplotlib.lines.Line2D at 0x7feedcb0d828>,\n",
       " <matplotlib.lines.Line2D at 0x7feedcb0d9b0>]"
      ]
     },
     "execution_count": 14,
     "metadata": {},
     "output_type": "execute_result"
    },
    {
     "data": {
      "image/png": "[encoded data removed]",
      "text/plain": [
       "<Figure size 432x288 with 1 Axes>"
      ]
     },
     "metadata": {},
     "output_type": "display_data"
    }
   ],
   "source": [
    "import numpy as np\n",
    "import matplotlib.pyplot as plt\n",
    "\"\"\"\n",
    "Simple python implemetation of CG tested on an example\n",
    "\"\"\"\n",
    "\n",
    "# Problem setup\n",
    "A = np.matrix([[3.0, 2.0], \n",
    "               [2.0, 6.0]]) # the matrix A in : Ax = b\n",
    "b = np.matrix([[2.0], \n",
    "               [-8.0]])  # we will use the convention that a vector is a column vector\n",
    "\n",
    "\n",
    "# solution approach\n",
    "x = np.matrix([[-2.0],\n",
    "               [-2.0]])\n",
    "\n",
    "steps = [(-2.0, -2.0)]  # modify according to x\n",
    "i = 0\n",
    "imax = 10\n",
    "eps = 0.01\n",
    "r = b - A * x\n",
    "d = r\n",
    "deltanew = r.T * r\n",
    "delta0 = deltanew\n",
    "while i < imax and deltanew > eps**2 * delta0:\n",
    "    alpha = float(deltanew / float(d.T * (A * d)))\n",
    "    x = x + alpha * d\n",
    "    steps.append((x[0, 0], x[1, 0]))\n",
    "    r = b - A * x\n",
    "    deltaold = deltanew\n",
    "    deltanew = r.T * r\n",
    "    beta = float(deltanew / float(deltaold))\n",
    "    d = r + beta * d\n",
    "    i += 1\n",
    "    \n",
    "print(\"Solution vector x* for Ax = b :\")\n",
    "print(x)\n",
    "\n",
    "print(\"And the steps taken by algorithm : \", steps)\n",
    "plt.plot(steps)"
   ]
  },
  {
   "cell_type": "markdown",
   "metadata": {},
   "source": [
    "#### Now to solve our problem of CGD, the following equation\n",
    "\n",
    "\\begin{equation}\n",
    "\\begin{pmatrix}\n",
    "     \\Delta x\\\\\n",
    "     \\Delta y\n",
    "\\end{pmatrix} = -\n",
    "\\begin{pmatrix}\n",
    "    Id        & \\eta D_{xy}^2 f \\\\\n",
    "    \\eta D_{yx}^2 g & Id        \n",
    "\\end{pmatrix}^{-1}\n",
    "\\begin{pmatrix}\n",
    "     \\nabla_{x} f\\\\\n",
    "     \\nabla_{y} g\n",
    "\\end{pmatrix}.\n",
    "\\end{equation}\n",
    "\n",
    "#### can be written as \n",
    "\n",
    "\\begin{equation}\n",
    "\\begin{pmatrix}\n",
    "    Id        & \\eta D_{xy}^2 f \\\\\n",
    "    \\eta D_{yx}^2 g & Id        \n",
    "\\end{pmatrix}\n",
    "\\begin{pmatrix}\n",
    "     \\Delta x\\\\\n",
    "     \\Delta y\n",
    "\\end{pmatrix} = -\n",
    "\\begin{pmatrix}\n",
    "     \\nabla_{x} f\\\\\n",
    "     \\nabla_{y} g\n",
    "\\end{pmatrix}.\n",
    "\\end{equation}\n",
    "\n",
    "#### so that the conjugate gradient method can used to calculate $\\Delta x$ and $\\Delta y$ without inverting the matrix.\n"
   ]
  },
  {
   "cell_type": "markdown",
   "metadata": {},
   "source": [
    "## Conclusion\n",
    "\n",
    "In the words of the authors of original paper,\n",
    "`We propose a novel and natural generalization of gradient descent to competitive optimization. Besides its attractive game-theoretic interpretation, the algorithm shows improved robustness properties compared to the existing methods, which we study using a combination of theoretical analysis and computational experiments.`\n",
    "\n",
    "Look out to the conclusion section of the [paper](https://arxiv.org/pdf/1905.12103.pdf) for extensive conclusion and future aspects.\n",
    "Refers to the Experiment and Conclusion section of the reproducibility [report](https://gopikishan14.github.io/Reproducibility_Challenge_NeurIPS_2019/index.html) for details on replication."
   ]
  }
 ],
 "metadata": {
  "kernelspec": {
   "display_name": "Python 3",
   "language": "python",
   "name": "python3"
  },
  "language_info": {
   "codemirror_mode": {
    "name": "ipython",
    "version": 3
   },
   "file_extension": ".py",
   "mimetype": "text/x-python",
   "name": "python",
   "nbconvert_exporter": "python",
   "pygments_lexer": "ipython3",
   "version": "3.6.4"
  }
 },
 "nbformat": 4,
 "nbformat_minor": 2
}
